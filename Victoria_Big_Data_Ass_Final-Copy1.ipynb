{
 "cells": [
  {
   "cell_type": "markdown",
   "id": "d99cba7f",
   "metadata": {},
   "source": [
    "#### Importing necessary libraries and reading the data:"
   ]
  },
  {
   "cell_type": "code",
   "execution_count": 38,
   "id": "d21ef75b",
   "metadata": {},
   "outputs": [],
   "source": [
    "import numpy as np\n",
    "import pandas as pd\n",
    "import matplotlib.pyplot as plt\n",
    "import seaborn as sns"
   ]
  },
  {
   "cell_type": "code",
   "execution_count": 39,
   "id": "4926f75e",
   "metadata": {},
   "outputs": [],
   "source": [
    "bil_data = pd.read_csv('billionaires.csv')"
   ]
  },
  {
   "cell_type": "markdown",
   "id": "c8fc63ad",
   "metadata": {},
   "source": [
    "#### Viewing the data using 'head()' function."
   ]
  },
  {
   "cell_type": "code",
   "execution_count": 40,
   "id": "94b59f90",
   "metadata": {
    "scrolled": false
   },
   "outputs": [
    {
     "data": {
      "text/html": [
       "<div>\n",
       "<style scoped>\n",
       "    .dataframe tbody tr th:only-of-type {\n",
       "        vertical-align: middle;\n",
       "    }\n",
       "\n",
       "    .dataframe tbody tr th {\n",
       "        vertical-align: top;\n",
       "    }\n",
       "\n",
       "    .dataframe thead th {\n",
       "        text-align: right;\n",
       "    }\n",
       "</style>\n",
       "<table border=\"1\" class=\"dataframe\">\n",
       "  <thead>\n",
       "    <tr style=\"text-align: right;\">\n",
       "      <th></th>\n",
       "      <th>name</th>\n",
       "      <th>rank</th>\n",
       "      <th>year</th>\n",
       "      <th>company.founded</th>\n",
       "      <th>company.name</th>\n",
       "      <th>company.relationship</th>\n",
       "      <th>company.sector</th>\n",
       "      <th>company.type</th>\n",
       "      <th>demographics.age</th>\n",
       "      <th>demographics.gender</th>\n",
       "      <th>...</th>\n",
       "      <th>location.gdp</th>\n",
       "      <th>location.region</th>\n",
       "      <th>wealth.type</th>\n",
       "      <th>wealth.worth in billions</th>\n",
       "      <th>wealth.how.category</th>\n",
       "      <th>wealth.how.from emerging</th>\n",
       "      <th>wealth.how.industry</th>\n",
       "      <th>wealth.how.inherited</th>\n",
       "      <th>wealth.how.was founder</th>\n",
       "      <th>wealth.how.was political</th>\n",
       "    </tr>\n",
       "  </thead>\n",
       "  <tbody>\n",
       "    <tr>\n",
       "      <th>0</th>\n",
       "      <td>Bill Gates</td>\n",
       "      <td>1</td>\n",
       "      <td>1996</td>\n",
       "      <td>1975</td>\n",
       "      <td>Microsoft</td>\n",
       "      <td>founder</td>\n",
       "      <td>Software</td>\n",
       "      <td>new</td>\n",
       "      <td>40</td>\n",
       "      <td>male</td>\n",
       "      <td>...</td>\n",
       "      <td>8.100000e+12</td>\n",
       "      <td>North America</td>\n",
       "      <td>founder non-finance</td>\n",
       "      <td>18.5</td>\n",
       "      <td>New Sectors</td>\n",
       "      <td>True</td>\n",
       "      <td>Technology-Computer</td>\n",
       "      <td>not inherited</td>\n",
       "      <td>True</td>\n",
       "      <td>True</td>\n",
       "    </tr>\n",
       "    <tr>\n",
       "      <th>1</th>\n",
       "      <td>Bill Gates</td>\n",
       "      <td>1</td>\n",
       "      <td>2001</td>\n",
       "      <td>1975</td>\n",
       "      <td>Microsoft</td>\n",
       "      <td>founder</td>\n",
       "      <td>Software</td>\n",
       "      <td>new</td>\n",
       "      <td>45</td>\n",
       "      <td>male</td>\n",
       "      <td>...</td>\n",
       "      <td>1.060000e+13</td>\n",
       "      <td>North America</td>\n",
       "      <td>founder non-finance</td>\n",
       "      <td>58.7</td>\n",
       "      <td>New Sectors</td>\n",
       "      <td>True</td>\n",
       "      <td>Technology-Computer</td>\n",
       "      <td>not inherited</td>\n",
       "      <td>True</td>\n",
       "      <td>True</td>\n",
       "    </tr>\n",
       "    <tr>\n",
       "      <th>2</th>\n",
       "      <td>Bill Gates</td>\n",
       "      <td>1</td>\n",
       "      <td>2014</td>\n",
       "      <td>1975</td>\n",
       "      <td>Microsoft</td>\n",
       "      <td>founder</td>\n",
       "      <td>Software</td>\n",
       "      <td>new</td>\n",
       "      <td>58</td>\n",
       "      <td>male</td>\n",
       "      <td>...</td>\n",
       "      <td>0.000000e+00</td>\n",
       "      <td>North America</td>\n",
       "      <td>founder non-finance</td>\n",
       "      <td>76.0</td>\n",
       "      <td>New Sectors</td>\n",
       "      <td>True</td>\n",
       "      <td>Technology-Computer</td>\n",
       "      <td>not inherited</td>\n",
       "      <td>True</td>\n",
       "      <td>True</td>\n",
       "    </tr>\n",
       "    <tr>\n",
       "      <th>3</th>\n",
       "      <td>Warren Buffett</td>\n",
       "      <td>2</td>\n",
       "      <td>1996</td>\n",
       "      <td>1962</td>\n",
       "      <td>Berkshire Hathaway</td>\n",
       "      <td>founder</td>\n",
       "      <td>Finance</td>\n",
       "      <td>new</td>\n",
       "      <td>65</td>\n",
       "      <td>male</td>\n",
       "      <td>...</td>\n",
       "      <td>8.100000e+12</td>\n",
       "      <td>North America</td>\n",
       "      <td>founder non-finance</td>\n",
       "      <td>15.0</td>\n",
       "      <td>Traded Sectors</td>\n",
       "      <td>True</td>\n",
       "      <td>Consumer</td>\n",
       "      <td>not inherited</td>\n",
       "      <td>True</td>\n",
       "      <td>True</td>\n",
       "    </tr>\n",
       "    <tr>\n",
       "      <th>4</th>\n",
       "      <td>Warren Buffett</td>\n",
       "      <td>2</td>\n",
       "      <td>2001</td>\n",
       "      <td>1962</td>\n",
       "      <td>Berkshire Hathaway</td>\n",
       "      <td>founder</td>\n",
       "      <td>Finance</td>\n",
       "      <td>new</td>\n",
       "      <td>70</td>\n",
       "      <td>male</td>\n",
       "      <td>...</td>\n",
       "      <td>1.060000e+13</td>\n",
       "      <td>North America</td>\n",
       "      <td>founder non-finance</td>\n",
       "      <td>32.3</td>\n",
       "      <td>Traded Sectors</td>\n",
       "      <td>True</td>\n",
       "      <td>Consumer</td>\n",
       "      <td>not inherited</td>\n",
       "      <td>True</td>\n",
       "      <td>True</td>\n",
       "    </tr>\n",
       "  </tbody>\n",
       "</table>\n",
       "<p>5 rows × 22 columns</p>\n",
       "</div>"
      ],
      "text/plain": [
       "             name  rank  year  company.founded        company.name  \\\n",
       "0      Bill Gates     1  1996             1975           Microsoft   \n",
       "1      Bill Gates     1  2001             1975           Microsoft   \n",
       "2      Bill Gates     1  2014             1975           Microsoft   \n",
       "3  Warren Buffett     2  1996             1962  Berkshire Hathaway   \n",
       "4  Warren Buffett     2  2001             1962  Berkshire Hathaway   \n",
       "\n",
       "  company.relationship company.sector company.type  demographics.age  \\\n",
       "0              founder       Software          new                40   \n",
       "1              founder       Software          new                45   \n",
       "2              founder       Software          new                58   \n",
       "3              founder        Finance          new                65   \n",
       "4              founder        Finance          new                70   \n",
       "\n",
       "  demographics.gender  ...  location.gdp location.region          wealth.type  \\\n",
       "0                male  ...  8.100000e+12   North America  founder non-finance   \n",
       "1                male  ...  1.060000e+13   North America  founder non-finance   \n",
       "2                male  ...  0.000000e+00   North America  founder non-finance   \n",
       "3                male  ...  8.100000e+12   North America  founder non-finance   \n",
       "4                male  ...  1.060000e+13   North America  founder non-finance   \n",
       "\n",
       "  wealth.worth in billions wealth.how.category  wealth.how.from emerging  \\\n",
       "0                     18.5         New Sectors                      True   \n",
       "1                     58.7         New Sectors                      True   \n",
       "2                     76.0         New Sectors                      True   \n",
       "3                     15.0      Traded Sectors                      True   \n",
       "4                     32.3      Traded Sectors                      True   \n",
       "\n",
       "   wealth.how.industry  wealth.how.inherited wealth.how.was founder  \\\n",
       "0  Technology-Computer         not inherited                   True   \n",
       "1  Technology-Computer         not inherited                   True   \n",
       "2  Technology-Computer         not inherited                   True   \n",
       "3             Consumer         not inherited                   True   \n",
       "4             Consumer         not inherited                   True   \n",
       "\n",
       "  wealth.how.was political  \n",
       "0                     True  \n",
       "1                     True  \n",
       "2                     True  \n",
       "3                     True  \n",
       "4                     True  \n",
       "\n",
       "[5 rows x 22 columns]"
      ]
     },
     "execution_count": 40,
     "metadata": {},
     "output_type": "execute_result"
    }
   ],
   "source": [
    "bil_data.head()"
   ]
  },
  {
   "cell_type": "markdown",
   "id": "f2e52c97",
   "metadata": {},
   "source": [
    "#### Viewing the data using 'tail()' function."
   ]
  },
  {
   "cell_type": "code",
   "execution_count": 41,
   "id": "af47fdeb",
   "metadata": {
    "scrolled": true
   },
   "outputs": [
    {
     "data": {
      "text/html": [
       "<div>\n",
       "<style scoped>\n",
       "    .dataframe tbody tr th:only-of-type {\n",
       "        vertical-align: middle;\n",
       "    }\n",
       "\n",
       "    .dataframe tbody tr th {\n",
       "        vertical-align: top;\n",
       "    }\n",
       "\n",
       "    .dataframe thead th {\n",
       "        text-align: right;\n",
       "    }\n",
       "</style>\n",
       "<table border=\"1\" class=\"dataframe\">\n",
       "  <thead>\n",
       "    <tr style=\"text-align: right;\">\n",
       "      <th></th>\n",
       "      <th>name</th>\n",
       "      <th>rank</th>\n",
       "      <th>year</th>\n",
       "      <th>company.founded</th>\n",
       "      <th>company.name</th>\n",
       "      <th>company.relationship</th>\n",
       "      <th>company.sector</th>\n",
       "      <th>company.type</th>\n",
       "      <th>demographics.age</th>\n",
       "      <th>demographics.gender</th>\n",
       "      <th>...</th>\n",
       "      <th>location.gdp</th>\n",
       "      <th>location.region</th>\n",
       "      <th>wealth.type</th>\n",
       "      <th>wealth.worth in billions</th>\n",
       "      <th>wealth.how.category</th>\n",
       "      <th>wealth.how.from emerging</th>\n",
       "      <th>wealth.how.industry</th>\n",
       "      <th>wealth.how.inherited</th>\n",
       "      <th>wealth.how.was founder</th>\n",
       "      <th>wealth.how.was political</th>\n",
       "    </tr>\n",
       "  </thead>\n",
       "  <tbody>\n",
       "    <tr>\n",
       "      <th>2609</th>\n",
       "      <td>Wu Chung-Yi</td>\n",
       "      <td>1565</td>\n",
       "      <td>2014</td>\n",
       "      <td>1991</td>\n",
       "      <td>Tingyi</td>\n",
       "      <td>investor</td>\n",
       "      <td>beverages and food</td>\n",
       "      <td>new</td>\n",
       "      <td>55</td>\n",
       "      <td>male</td>\n",
       "      <td>...</td>\n",
       "      <td>0.0</td>\n",
       "      <td>East Asia</td>\n",
       "      <td>executive</td>\n",
       "      <td>1.0</td>\n",
       "      <td>Traded Sectors</td>\n",
       "      <td>True</td>\n",
       "      <td>Non-consumer industrial</td>\n",
       "      <td>not inherited</td>\n",
       "      <td>True</td>\n",
       "      <td>True</td>\n",
       "    </tr>\n",
       "    <tr>\n",
       "      <th>2610</th>\n",
       "      <td>Wu Xiong</td>\n",
       "      <td>1565</td>\n",
       "      <td>2014</td>\n",
       "      <td>1999</td>\n",
       "      <td>Biostime International Holdings</td>\n",
       "      <td>owner</td>\n",
       "      <td>infant formula</td>\n",
       "      <td>new</td>\n",
       "      <td>0</td>\n",
       "      <td>male</td>\n",
       "      <td>...</td>\n",
       "      <td>0.0</td>\n",
       "      <td>East Asia</td>\n",
       "      <td>executive</td>\n",
       "      <td>1.0</td>\n",
       "      <td>Traded Sectors</td>\n",
       "      <td>True</td>\n",
       "      <td>Consumer</td>\n",
       "      <td>not inherited</td>\n",
       "      <td>True</td>\n",
       "      <td>True</td>\n",
       "    </tr>\n",
       "    <tr>\n",
       "      <th>2611</th>\n",
       "      <td>Yang Keng</td>\n",
       "      <td>1565</td>\n",
       "      <td>2014</td>\n",
       "      <td>0</td>\n",
       "      <td>Blue Ray Corp</td>\n",
       "      <td>chairman</td>\n",
       "      <td>real estate</td>\n",
       "      <td>new</td>\n",
       "      <td>53</td>\n",
       "      <td>male</td>\n",
       "      <td>...</td>\n",
       "      <td>0.0</td>\n",
       "      <td>East Asia</td>\n",
       "      <td>self-made finance</td>\n",
       "      <td>1.0</td>\n",
       "      <td>Financial</td>\n",
       "      <td>True</td>\n",
       "      <td>Real Estate</td>\n",
       "      <td>not inherited</td>\n",
       "      <td>True</td>\n",
       "      <td>True</td>\n",
       "    </tr>\n",
       "    <tr>\n",
       "      <th>2612</th>\n",
       "      <td>Zdenek Bakala</td>\n",
       "      <td>1565</td>\n",
       "      <td>2014</td>\n",
       "      <td>1994</td>\n",
       "      <td>Patria Finance</td>\n",
       "      <td>founder</td>\n",
       "      <td>coal</td>\n",
       "      <td>new</td>\n",
       "      <td>53</td>\n",
       "      <td>male</td>\n",
       "      <td>...</td>\n",
       "      <td>0.0</td>\n",
       "      <td>Europe</td>\n",
       "      <td>privatized and resources</td>\n",
       "      <td>1.0</td>\n",
       "      <td>Resource Related</td>\n",
       "      <td>True</td>\n",
       "      <td>Mining and metals</td>\n",
       "      <td>not inherited</td>\n",
       "      <td>True</td>\n",
       "      <td>True</td>\n",
       "    </tr>\n",
       "    <tr>\n",
       "      <th>2613</th>\n",
       "      <td>Zhu Wenchen</td>\n",
       "      <td>1565</td>\n",
       "      <td>2014</td>\n",
       "      <td>1999</td>\n",
       "      <td>Furen Pharmaceutical Group</td>\n",
       "      <td>chairman</td>\n",
       "      <td>pharmaceuticals</td>\n",
       "      <td>new</td>\n",
       "      <td>48</td>\n",
       "      <td>male</td>\n",
       "      <td>...</td>\n",
       "      <td>0.0</td>\n",
       "      <td>East Asia</td>\n",
       "      <td>executive</td>\n",
       "      <td>1.0</td>\n",
       "      <td>New Sectors</td>\n",
       "      <td>True</td>\n",
       "      <td>Technology-Medical</td>\n",
       "      <td>not inherited</td>\n",
       "      <td>True</td>\n",
       "      <td>True</td>\n",
       "    </tr>\n",
       "  </tbody>\n",
       "</table>\n",
       "<p>5 rows × 22 columns</p>\n",
       "</div>"
      ],
      "text/plain": [
       "               name  rank  year  company.founded  \\\n",
       "2609    Wu Chung-Yi  1565  2014             1991   \n",
       "2610       Wu Xiong  1565  2014             1999   \n",
       "2611      Yang Keng  1565  2014                0   \n",
       "2612  Zdenek Bakala  1565  2014             1994   \n",
       "2613    Zhu Wenchen  1565  2014             1999   \n",
       "\n",
       "                         company.name company.relationship  \\\n",
       "2609                           Tingyi             investor   \n",
       "2610  Biostime International Holdings                owner   \n",
       "2611                    Blue Ray Corp             chairman   \n",
       "2612                   Patria Finance              founder   \n",
       "2613       Furen Pharmaceutical Group             chairman   \n",
       "\n",
       "          company.sector company.type  demographics.age demographics.gender  \\\n",
       "2609  beverages and food          new                55                male   \n",
       "2610      infant formula          new                 0                male   \n",
       "2611         real estate          new                53                male   \n",
       "2612                coal          new                53                male   \n",
       "2613     pharmaceuticals          new                48                male   \n",
       "\n",
       "      ... location.gdp location.region               wealth.type  \\\n",
       "2609  ...          0.0       East Asia                 executive   \n",
       "2610  ...          0.0       East Asia                 executive   \n",
       "2611  ...          0.0       East Asia         self-made finance   \n",
       "2612  ...          0.0          Europe  privatized and resources   \n",
       "2613  ...          0.0       East Asia                 executive   \n",
       "\n",
       "     wealth.worth in billions wealth.how.category  wealth.how.from emerging  \\\n",
       "2609                      1.0      Traded Sectors                      True   \n",
       "2610                      1.0      Traded Sectors                      True   \n",
       "2611                      1.0           Financial                      True   \n",
       "2612                      1.0    Resource Related                      True   \n",
       "2613                      1.0         New Sectors                      True   \n",
       "\n",
       "          wealth.how.industry  wealth.how.inherited wealth.how.was founder  \\\n",
       "2609  Non-consumer industrial         not inherited                   True   \n",
       "2610                 Consumer         not inherited                   True   \n",
       "2611              Real Estate         not inherited                   True   \n",
       "2612        Mining and metals         not inherited                   True   \n",
       "2613       Technology-Medical         not inherited                   True   \n",
       "\n",
       "     wealth.how.was political  \n",
       "2609                     True  \n",
       "2610                     True  \n",
       "2611                     True  \n",
       "2612                     True  \n",
       "2613                     True  \n",
       "\n",
       "[5 rows x 22 columns]"
      ]
     },
     "execution_count": 41,
     "metadata": {},
     "output_type": "execute_result"
    }
   ],
   "source": [
    "bil_data.tail()"
   ]
  },
  {
   "cell_type": "markdown",
   "id": "ba0c6363",
   "metadata": {},
   "source": [
    "#### Viewing more information about the dataset such as the number of rows and columns, column names, data type, number of non-null values"
   ]
  },
  {
   "cell_type": "code",
   "execution_count": 5,
   "id": "ad4ae178",
   "metadata": {},
   "outputs": [
    {
     "name": "stdout",
     "output_type": "stream",
     "text": [
      "<class 'pandas.core.frame.DataFrame'>\n",
      "RangeIndex: 2614 entries, 0 to 2613\n",
      "Data columns (total 22 columns):\n",
      " #   Column                    Non-Null Count  Dtype  \n",
      "---  ------                    --------------  -----  \n",
      " 0   name                      2614 non-null   object \n",
      " 1   rank                      2614 non-null   int64  \n",
      " 2   year                      2614 non-null   int64  \n",
      " 3   company.founded           2614 non-null   int64  \n",
      " 4   company.name              2576 non-null   object \n",
      " 5   company.relationship      2568 non-null   object \n",
      " 6   company.sector            2591 non-null   object \n",
      " 7   company.type              2578 non-null   object \n",
      " 8   demographics.age          2614 non-null   int64  \n",
      " 9   demographics.gender       2580 non-null   object \n",
      " 10  location.citizenship      2614 non-null   object \n",
      " 11  location.country code     2614 non-null   object \n",
      " 12  location.gdp              2614 non-null   float64\n",
      " 13  location.region           2614 non-null   object \n",
      " 14  wealth.type               2592 non-null   object \n",
      " 15  wealth.worth in billions  2614 non-null   float64\n",
      " 16  wealth.how.category       2613 non-null   object \n",
      " 17  wealth.how.from emerging  2614 non-null   bool   \n",
      " 18  wealth.how.industry       2613 non-null   object \n",
      " 19  wealth.how.inherited      2614 non-null   object \n",
      " 20  wealth.how.was founder    2614 non-null   bool   \n",
      " 21  wealth.how.was political  2614 non-null   bool   \n",
      "dtypes: bool(3), float64(2), int64(4), object(13)\n",
      "memory usage: 395.8+ KB\n"
     ]
    }
   ],
   "source": [
    "bil_data.info()"
   ]
  },
  {
   "cell_type": "markdown",
   "id": "62ae1184",
   "metadata": {},
   "source": [
    "#### Renaming the columns"
   ]
  },
  {
   "cell_type": "code",
   "execution_count": 42,
   "id": "b984301a",
   "metadata": {},
   "outputs": [],
   "source": [
    "bil_data.rename(columns={'company.founded': 'year_company_founded',\n",
    "                   'company.name': 'company_name', \n",
    "                   'company.relationship': 'relationship_with_company', \n",
    "                   'company.sector': 'company_sector', \n",
    "                   'company.type': 'company_type',\n",
    "                   'demographics.age': 'age',\n",
    "                   'demographics.gender': 'gender',\n",
    "                   'location.citizenship': 'country',\n",
    "                   'location.country code': 'country_code',\n",
    "                   'location.gdp': 'country_gdp',\n",
    "                   'location.region': 'region',\n",
    "                   'wealth.type': 'wealth_type',\n",
    "                   'wealth.worth in billions': 'net_worth_in_billions',\n",
    "                   'wealth.how.category': 'company_sector_category',\n",
    "                   'wealth.how.from emerging': 'emerging_market',\n",
    "                   'wealth.how.industry': 'industry',\n",
    "                   'wealth.how.inherited':'wealth_source',\n",
    "                   'wealth.how.was founder': 'founder_status',\n",
    "                   'wealth.how.was political': 'political_impact'}, inplace=True)"
   ]
  },
  {
   "cell_type": "code",
   "execution_count": 43,
   "id": "0e6f81d3",
   "metadata": {},
   "outputs": [
    {
     "data": {
      "text/plain": [
       "Index(['name', 'rank', 'year', 'year_company_founded', 'company_name',\n",
       "       'relationship_with_company', 'company_sector', 'company_type', 'age',\n",
       "       'gender', 'country', 'country_code', 'country_gdp', 'region',\n",
       "       'wealth_type', 'net_worth_in_billions', 'company_sector_category',\n",
       "       'emerging_market', 'industry', 'wealth_source', 'founder_status',\n",
       "       'political_impact'],\n",
       "      dtype='object')"
      ]
     },
     "execution_count": 43,
     "metadata": {},
     "output_type": "execute_result"
    }
   ],
   "source": [
    "bil_data.columns"
   ]
  },
  {
   "cell_type": "code",
   "execution_count": 44,
   "id": "81b7d087",
   "metadata": {},
   "outputs": [
    {
     "data": {
      "text/html": [
       "<div>\n",
       "<style scoped>\n",
       "    .dataframe tbody tr th:only-of-type {\n",
       "        vertical-align: middle;\n",
       "    }\n",
       "\n",
       "    .dataframe tbody tr th {\n",
       "        vertical-align: top;\n",
       "    }\n",
       "\n",
       "    .dataframe thead th {\n",
       "        text-align: right;\n",
       "    }\n",
       "</style>\n",
       "<table border=\"1\" class=\"dataframe\">\n",
       "  <thead>\n",
       "    <tr style=\"text-align: right;\">\n",
       "      <th></th>\n",
       "      <th>rank</th>\n",
       "      <th>year</th>\n",
       "      <th>year_company_founded</th>\n",
       "      <th>age</th>\n",
       "      <th>country_gdp</th>\n",
       "      <th>net_worth_in_billions</th>\n",
       "    </tr>\n",
       "  </thead>\n",
       "  <tbody>\n",
       "    <tr>\n",
       "      <th>count</th>\n",
       "      <td>2614.000000</td>\n",
       "      <td>2614.000000</td>\n",
       "      <td>2614.000000</td>\n",
       "      <td>2614.000000</td>\n",
       "      <td>2.614000e+03</td>\n",
       "      <td>2614.000000</td>\n",
       "    </tr>\n",
       "    <tr>\n",
       "      <th>mean</th>\n",
       "      <td>599.672533</td>\n",
       "      <td>2008.411630</td>\n",
       "      <td>1924.711936</td>\n",
       "      <td>53.341239</td>\n",
       "      <td>1.769103e+12</td>\n",
       "      <td>3.531943</td>\n",
       "    </tr>\n",
       "    <tr>\n",
       "      <th>std</th>\n",
       "      <td>467.885695</td>\n",
       "      <td>7.483598</td>\n",
       "      <td>243.776546</td>\n",
       "      <td>25.333320</td>\n",
       "      <td>3.547083e+12</td>\n",
       "      <td>5.088813</td>\n",
       "    </tr>\n",
       "    <tr>\n",
       "      <th>min</th>\n",
       "      <td>1.000000</td>\n",
       "      <td>1996.000000</td>\n",
       "      <td>0.000000</td>\n",
       "      <td>-42.000000</td>\n",
       "      <td>0.000000e+00</td>\n",
       "      <td>1.000000</td>\n",
       "    </tr>\n",
       "    <tr>\n",
       "      <th>25%</th>\n",
       "      <td>215.000000</td>\n",
       "      <td>2001.000000</td>\n",
       "      <td>1936.000000</td>\n",
       "      <td>47.000000</td>\n",
       "      <td>0.000000e+00</td>\n",
       "      <td>1.400000</td>\n",
       "    </tr>\n",
       "    <tr>\n",
       "      <th>50%</th>\n",
       "      <td>430.000000</td>\n",
       "      <td>2014.000000</td>\n",
       "      <td>1963.000000</td>\n",
       "      <td>59.000000</td>\n",
       "      <td>0.000000e+00</td>\n",
       "      <td>2.000000</td>\n",
       "    </tr>\n",
       "    <tr>\n",
       "      <th>75%</th>\n",
       "      <td>988.000000</td>\n",
       "      <td>2014.000000</td>\n",
       "      <td>1985.000000</td>\n",
       "      <td>70.000000</td>\n",
       "      <td>7.250000e+11</td>\n",
       "      <td>3.500000</td>\n",
       "    </tr>\n",
       "    <tr>\n",
       "      <th>max</th>\n",
       "      <td>1565.000000</td>\n",
       "      <td>2014.000000</td>\n",
       "      <td>2012.000000</td>\n",
       "      <td>98.000000</td>\n",
       "      <td>1.060000e+13</td>\n",
       "      <td>76.000000</td>\n",
       "    </tr>\n",
       "  </tbody>\n",
       "</table>\n",
       "</div>"
      ],
      "text/plain": [
       "              rank         year  year_company_founded          age  \\\n",
       "count  2614.000000  2614.000000           2614.000000  2614.000000   \n",
       "mean    599.672533  2008.411630           1924.711936    53.341239   \n",
       "std     467.885695     7.483598            243.776546    25.333320   \n",
       "min       1.000000  1996.000000              0.000000   -42.000000   \n",
       "25%     215.000000  2001.000000           1936.000000    47.000000   \n",
       "50%     430.000000  2014.000000           1963.000000    59.000000   \n",
       "75%     988.000000  2014.000000           1985.000000    70.000000   \n",
       "max    1565.000000  2014.000000           2012.000000    98.000000   \n",
       "\n",
       "        country_gdp  net_worth_in_billions  \n",
       "count  2.614000e+03            2614.000000  \n",
       "mean   1.769103e+12               3.531943  \n",
       "std    3.547083e+12               5.088813  \n",
       "min    0.000000e+00               1.000000  \n",
       "25%    0.000000e+00               1.400000  \n",
       "50%    0.000000e+00               2.000000  \n",
       "75%    7.250000e+11               3.500000  \n",
       "max    1.060000e+13              76.000000  "
      ]
     },
     "execution_count": 44,
     "metadata": {},
     "output_type": "execute_result"
    }
   ],
   "source": [
    "bil_data.describe()"
   ]
  },
  {
   "cell_type": "code",
   "execution_count": 45,
   "id": "fc5971dc",
   "metadata": {},
   "outputs": [
    {
     "data": {
      "text/plain": [
       "name                          0\n",
       "rank                          0\n",
       "year                          0\n",
       "year_company_founded          0\n",
       "company_name                 38\n",
       "relationship_with_company    46\n",
       "company_sector               23\n",
       "company_type                 36\n",
       "age                           0\n",
       "gender                       34\n",
       "country                       0\n",
       "country_code                  0\n",
       "country_gdp                   0\n",
       "region                        0\n",
       "wealth_type                  22\n",
       "net_worth_in_billions         0\n",
       "company_sector_category       1\n",
       "emerging_market               0\n",
       "industry                      1\n",
       "wealth_source                 0\n",
       "founder_status                0\n",
       "political_impact              0\n",
       "dtype: int64"
      ]
     },
     "execution_count": 45,
     "metadata": {},
     "output_type": "execute_result"
    }
   ],
   "source": [
    "bil_data.isnull().sum()"
   ]
  },
  {
   "cell_type": "markdown",
   "id": "b9987ab8",
   "metadata": {},
   "source": [
    "#### Checking for correlation using the corr() method to understand the relationship between the variables"
   ]
  },
  {
   "cell_type": "markdown",
   "id": "3e7d406a",
   "metadata": {},
   "source": [
    "#### Checking for duplicated rows using the duplicated() method"
   ]
  },
  {
   "cell_type": "code",
   "execution_count": 46,
   "id": "a1f9de01",
   "metadata": {},
   "outputs": [
    {
     "data": {
      "text/plain": [
       "0"
      ]
     },
     "execution_count": 46,
     "metadata": {},
     "output_type": "execute_result"
    }
   ],
   "source": [
    "bil_data.duplicated().sum()"
   ]
  },
  {
   "cell_type": "code",
   "execution_count": 47,
   "id": "2f66be49",
   "metadata": {},
   "outputs": [
    {
     "data": {
      "text/html": [
       "<div>\n",
       "<style scoped>\n",
       "    .dataframe tbody tr th:only-of-type {\n",
       "        vertical-align: middle;\n",
       "    }\n",
       "\n",
       "    .dataframe tbody tr th {\n",
       "        vertical-align: top;\n",
       "    }\n",
       "\n",
       "    .dataframe thead th {\n",
       "        text-align: right;\n",
       "    }\n",
       "</style>\n",
       "<table border=\"1\" class=\"dataframe\">\n",
       "  <thead>\n",
       "    <tr style=\"text-align: right;\">\n",
       "      <th></th>\n",
       "      <th>rank</th>\n",
       "      <th>year</th>\n",
       "      <th>year_company_founded</th>\n",
       "      <th>age</th>\n",
       "      <th>country_gdp</th>\n",
       "      <th>net_worth_in_billions</th>\n",
       "    </tr>\n",
       "  </thead>\n",
       "  <tbody>\n",
       "    <tr>\n",
       "      <th>rank</th>\n",
       "      <td>1.000000</td>\n",
       "      <td>0.582301</td>\n",
       "      <td>0.065326</td>\n",
       "      <td>0.161696</td>\n",
       "      <td>-0.371195</td>\n",
       "      <td>-0.407304</td>\n",
       "    </tr>\n",
       "    <tr>\n",
       "      <th>year</th>\n",
       "      <td>0.582301</td>\n",
       "      <td>1.000000</td>\n",
       "      <td>0.153186</td>\n",
       "      <td>0.424557</td>\n",
       "      <td>-0.601114</td>\n",
       "      <td>0.102822</td>\n",
       "    </tr>\n",
       "    <tr>\n",
       "      <th>year_company_founded</th>\n",
       "      <td>0.065326</td>\n",
       "      <td>0.153186</td>\n",
       "      <td>1.000000</td>\n",
       "      <td>0.150391</td>\n",
       "      <td>-0.027067</td>\n",
       "      <td>0.036589</td>\n",
       "    </tr>\n",
       "    <tr>\n",
       "      <th>age</th>\n",
       "      <td>0.161696</td>\n",
       "      <td>0.424557</td>\n",
       "      <td>0.150391</td>\n",
       "      <td>1.000000</td>\n",
       "      <td>-0.117887</td>\n",
       "      <td>0.119870</td>\n",
       "    </tr>\n",
       "    <tr>\n",
       "      <th>country_gdp</th>\n",
       "      <td>-0.371195</td>\n",
       "      <td>-0.601114</td>\n",
       "      <td>-0.027067</td>\n",
       "      <td>-0.117887</td>\n",
       "      <td>1.000000</td>\n",
       "      <td>-0.047710</td>\n",
       "    </tr>\n",
       "    <tr>\n",
       "      <th>net_worth_in_billions</th>\n",
       "      <td>-0.407304</td>\n",
       "      <td>0.102822</td>\n",
       "      <td>0.036589</td>\n",
       "      <td>0.119870</td>\n",
       "      <td>-0.047710</td>\n",
       "      <td>1.000000</td>\n",
       "    </tr>\n",
       "  </tbody>\n",
       "</table>\n",
       "</div>"
      ],
      "text/plain": [
       "                           rank      year  year_company_founded       age  \\\n",
       "rank                   1.000000  0.582301              0.065326  0.161696   \n",
       "year                   0.582301  1.000000              0.153186  0.424557   \n",
       "year_company_founded   0.065326  0.153186              1.000000  0.150391   \n",
       "age                    0.161696  0.424557              0.150391  1.000000   \n",
       "country_gdp           -0.371195 -0.601114             -0.027067 -0.117887   \n",
       "net_worth_in_billions -0.407304  0.102822              0.036589  0.119870   \n",
       "\n",
       "                       country_gdp  net_worth_in_billions  \n",
       "rank                     -0.371195              -0.407304  \n",
       "year                     -0.601114               0.102822  \n",
       "year_company_founded     -0.027067               0.036589  \n",
       "age                      -0.117887               0.119870  \n",
       "country_gdp               1.000000              -0.047710  \n",
       "net_worth_in_billions    -0.047710               1.000000  "
      ]
     },
     "execution_count": 47,
     "metadata": {},
     "output_type": "execute_result"
    }
   ],
   "source": [
    "numerical_columns = bil_data.select_dtypes(include=[float, int])\n",
    "correlation= numerical_columns.corr()\n",
    "correlation"
   ]
  },
  {
   "cell_type": "markdown",
   "id": "25204848",
   "metadata": {},
   "source": [
    "#### Visualising the correlation using heatmap from seaborn"
   ]
  },
  {
   "cell_type": "code",
   "execution_count": 48,
   "id": "f95cc9d6",
   "metadata": {},
   "outputs": [
    {
     "data": {
      "text/plain": [
       "Text(50.5815972222222, 0.5, 'columns')"
      ]
     },
     "execution_count": 48,
     "metadata": {},
     "output_type": "execute_result"
    },
    {
     "data": {
      "image/png": "[encoded data removed]",
      "text/plain": [
       "<Figure size 640x480 with 2 Axes>"
      ]
     },
     "metadata": {},
     "output_type": "display_data"
    }
   ],
   "source": [
    "sns.heatmap(correlation, annot=True, cmap= 'coolwarm')\n",
    "\n",
    "plt.title(\"Heatmap Showing Correlation Between Numerical Data\")\n",
    "plt.xlabel(\"columns\")\n",
    "plt.ylabel(\"columns\")"
   ]
  },
  {
   "cell_type": "markdown",
   "id": "faed0f12",
   "metadata": {},
   "source": [
    "Each square shows the correlation between the variables on each axis. Correlation ranges from -1 to +1. Values closer to zero means there is no linear trend between the two variables. The close to 1 the correlation is the more positively correlated they are; that is as one increases so does the other and the closer to 1 the stronger this relationship is. A correlation closer to -1 is similar, but instead of both increasing one variable will decrease as the other increases. The diagonals are all 1/dark green because those squares are correlating each variable to itself (so it's a perfect correlation). For the rest the larger the number and darker the color, the higher the correlation between the two variables. The plot is also symmetrical about the diagonal since the same two variables are being paired together in those squares.\n",
    "#### Above is a heatmap plot of the correlation matrix using seaborn. The annot=True parameter in the sns.heatmap() function displays the correlation coefficients on the heatmap.\n",
    "\n",
    "There is a slight negative correlation between country_gdp and year, this might mean that an increase in the year will see a decrease in the country's gdp or vice versa."
   ]
  },
  {
   "cell_type": "markdown",
   "id": "d85cf4d4",
   "metadata": {},
   "source": [
    "#### Checking for outliers in numerical columns"
   ]
  },
  {
   "cell_type": "code",
   "execution_count": 50,
   "id": "0469f74b",
   "metadata": {},
   "outputs": [
    {
     "data": {
      "image/png": "[encoded data removed]",
      "text/plain": [
       "<Figure size 600x600 with 1 Axes>"
      ]
     },
     "metadata": {},
     "output_type": "display_data"
    }
   ],
   "source": [
    "plt.figure(figsize= (6,6))\n",
    "sns.boxplot(y = bil_data['age'])\n",
    "plt.title('Box plot of age')\n",
    "plt.show()"
   ]
  },
  {
   "cell_type": "markdown",
   "id": "41f6c7d4",
   "metadata": {},
   "source": [
    "#### the outliers in column 'age' are from about -42 to 10"
   ]
  },
  {
   "cell_type": "markdown",
   "id": "eb172f29",
   "metadata": {},
   "source": [
    "#### Removing Outliers"
   ]
  },
  {
   "cell_type": "code",
   "execution_count": 51,
   "id": "2a22a187",
   "metadata": {},
   "outputs": [
    {
     "data": {
      "text/html": [
       "<div>\n",
       "<style scoped>\n",
       "    .dataframe tbody tr th:only-of-type {\n",
       "        vertical-align: middle;\n",
       "    }\n",
       "\n",
       "    .dataframe tbody tr th {\n",
       "        vertical-align: top;\n",
       "    }\n",
       "\n",
       "    .dataframe thead th {\n",
       "        text-align: right;\n",
       "    }\n",
       "</style>\n",
       "<table border=\"1\" class=\"dataframe\">\n",
       "  <thead>\n",
       "    <tr style=\"text-align: right;\">\n",
       "      <th></th>\n",
       "      <th>name</th>\n",
       "      <th>rank</th>\n",
       "      <th>year</th>\n",
       "      <th>year_company_founded</th>\n",
       "      <th>company_name</th>\n",
       "      <th>relationship_with_company</th>\n",
       "      <th>company_sector</th>\n",
       "      <th>company_type</th>\n",
       "      <th>age</th>\n",
       "      <th>gender</th>\n",
       "      <th>...</th>\n",
       "      <th>country_gdp</th>\n",
       "      <th>region</th>\n",
       "      <th>wealth_type</th>\n",
       "      <th>net_worth_in_billions</th>\n",
       "      <th>company_sector_category</th>\n",
       "      <th>emerging_market</th>\n",
       "      <th>industry</th>\n",
       "      <th>wealth_source</th>\n",
       "      <th>founder_status</th>\n",
       "      <th>political_impact</th>\n",
       "    </tr>\n",
       "  </thead>\n",
       "  <tbody>\n",
       "    <tr>\n",
       "      <th>0</th>\n",
       "      <td>Bill Gates</td>\n",
       "      <td>1</td>\n",
       "      <td>1996</td>\n",
       "      <td>1975</td>\n",
       "      <td>Microsoft</td>\n",
       "      <td>founder</td>\n",
       "      <td>Software</td>\n",
       "      <td>new</td>\n",
       "      <td>40</td>\n",
       "      <td>male</td>\n",
       "      <td>...</td>\n",
       "      <td>8.100000e+12</td>\n",
       "      <td>North America</td>\n",
       "      <td>founder non-finance</td>\n",
       "      <td>18.5</td>\n",
       "      <td>New Sectors</td>\n",
       "      <td>True</td>\n",
       "      <td>Technology-Computer</td>\n",
       "      <td>not inherited</td>\n",
       "      <td>True</td>\n",
       "      <td>True</td>\n",
       "    </tr>\n",
       "    <tr>\n",
       "      <th>1</th>\n",
       "      <td>Bill Gates</td>\n",
       "      <td>1</td>\n",
       "      <td>2001</td>\n",
       "      <td>1975</td>\n",
       "      <td>Microsoft</td>\n",
       "      <td>founder</td>\n",
       "      <td>Software</td>\n",
       "      <td>new</td>\n",
       "      <td>45</td>\n",
       "      <td>male</td>\n",
       "      <td>...</td>\n",
       "      <td>1.060000e+13</td>\n",
       "      <td>North America</td>\n",
       "      <td>founder non-finance</td>\n",
       "      <td>58.7</td>\n",
       "      <td>New Sectors</td>\n",
       "      <td>True</td>\n",
       "      <td>Technology-Computer</td>\n",
       "      <td>not inherited</td>\n",
       "      <td>True</td>\n",
       "      <td>True</td>\n",
       "    </tr>\n",
       "    <tr>\n",
       "      <th>2</th>\n",
       "      <td>Bill Gates</td>\n",
       "      <td>1</td>\n",
       "      <td>2014</td>\n",
       "      <td>1975</td>\n",
       "      <td>Microsoft</td>\n",
       "      <td>founder</td>\n",
       "      <td>Software</td>\n",
       "      <td>new</td>\n",
       "      <td>58</td>\n",
       "      <td>male</td>\n",
       "      <td>...</td>\n",
       "      <td>0.000000e+00</td>\n",
       "      <td>North America</td>\n",
       "      <td>founder non-finance</td>\n",
       "      <td>76.0</td>\n",
       "      <td>New Sectors</td>\n",
       "      <td>True</td>\n",
       "      <td>Technology-Computer</td>\n",
       "      <td>not inherited</td>\n",
       "      <td>True</td>\n",
       "      <td>True</td>\n",
       "    </tr>\n",
       "    <tr>\n",
       "      <th>3</th>\n",
       "      <td>Warren Buffett</td>\n",
       "      <td>2</td>\n",
       "      <td>1996</td>\n",
       "      <td>1962</td>\n",
       "      <td>Berkshire Hathaway</td>\n",
       "      <td>founder</td>\n",
       "      <td>Finance</td>\n",
       "      <td>new</td>\n",
       "      <td>65</td>\n",
       "      <td>male</td>\n",
       "      <td>...</td>\n",
       "      <td>8.100000e+12</td>\n",
       "      <td>North America</td>\n",
       "      <td>founder non-finance</td>\n",
       "      <td>15.0</td>\n",
       "      <td>Traded Sectors</td>\n",
       "      <td>True</td>\n",
       "      <td>Consumer</td>\n",
       "      <td>not inherited</td>\n",
       "      <td>True</td>\n",
       "      <td>True</td>\n",
       "    </tr>\n",
       "    <tr>\n",
       "      <th>4</th>\n",
       "      <td>Warren Buffett</td>\n",
       "      <td>2</td>\n",
       "      <td>2001</td>\n",
       "      <td>1962</td>\n",
       "      <td>Berkshire Hathaway</td>\n",
       "      <td>founder</td>\n",
       "      <td>Finance</td>\n",
       "      <td>new</td>\n",
       "      <td>70</td>\n",
       "      <td>male</td>\n",
       "      <td>...</td>\n",
       "      <td>1.060000e+13</td>\n",
       "      <td>North America</td>\n",
       "      <td>founder non-finance</td>\n",
       "      <td>32.3</td>\n",
       "      <td>Traded Sectors</td>\n",
       "      <td>True</td>\n",
       "      <td>Consumer</td>\n",
       "      <td>not inherited</td>\n",
       "      <td>True</td>\n",
       "      <td>True</td>\n",
       "    </tr>\n",
       "    <tr>\n",
       "      <th>...</th>\n",
       "      <td>...</td>\n",
       "      <td>...</td>\n",
       "      <td>...</td>\n",
       "      <td>...</td>\n",
       "      <td>...</td>\n",
       "      <td>...</td>\n",
       "      <td>...</td>\n",
       "      <td>...</td>\n",
       "      <td>...</td>\n",
       "      <td>...</td>\n",
       "      <td>...</td>\n",
       "      <td>...</td>\n",
       "      <td>...</td>\n",
       "      <td>...</td>\n",
       "      <td>...</td>\n",
       "      <td>...</td>\n",
       "      <td>...</td>\n",
       "      <td>...</td>\n",
       "      <td>...</td>\n",
       "      <td>...</td>\n",
       "      <td>...</td>\n",
       "    </tr>\n",
       "    <tr>\n",
       "      <th>2608</th>\n",
       "      <td>William Moncrief, Jr.</td>\n",
       "      <td>1565</td>\n",
       "      <td>2014</td>\n",
       "      <td>1929</td>\n",
       "      <td>Moncrief Oil</td>\n",
       "      <td>relation</td>\n",
       "      <td>oil</td>\n",
       "      <td>new</td>\n",
       "      <td>93</td>\n",
       "      <td>male</td>\n",
       "      <td>...</td>\n",
       "      <td>0.000000e+00</td>\n",
       "      <td>North America</td>\n",
       "      <td>inherited</td>\n",
       "      <td>1.0</td>\n",
       "      <td>Resource Related</td>\n",
       "      <td>True</td>\n",
       "      <td>Energy</td>\n",
       "      <td>father</td>\n",
       "      <td>True</td>\n",
       "      <td>True</td>\n",
       "    </tr>\n",
       "    <tr>\n",
       "      <th>2609</th>\n",
       "      <td>Wu Chung-Yi</td>\n",
       "      <td>1565</td>\n",
       "      <td>2014</td>\n",
       "      <td>1991</td>\n",
       "      <td>Tingyi</td>\n",
       "      <td>investor</td>\n",
       "      <td>beverages and food</td>\n",
       "      <td>new</td>\n",
       "      <td>55</td>\n",
       "      <td>male</td>\n",
       "      <td>...</td>\n",
       "      <td>0.000000e+00</td>\n",
       "      <td>East Asia</td>\n",
       "      <td>executive</td>\n",
       "      <td>1.0</td>\n",
       "      <td>Traded Sectors</td>\n",
       "      <td>True</td>\n",
       "      <td>Non-consumer industrial</td>\n",
       "      <td>not inherited</td>\n",
       "      <td>True</td>\n",
       "      <td>True</td>\n",
       "    </tr>\n",
       "    <tr>\n",
       "      <th>2611</th>\n",
       "      <td>Yang Keng</td>\n",
       "      <td>1565</td>\n",
       "      <td>2014</td>\n",
       "      <td>0</td>\n",
       "      <td>Blue Ray Corp</td>\n",
       "      <td>chairman</td>\n",
       "      <td>real estate</td>\n",
       "      <td>new</td>\n",
       "      <td>53</td>\n",
       "      <td>male</td>\n",
       "      <td>...</td>\n",
       "      <td>0.000000e+00</td>\n",
       "      <td>East Asia</td>\n",
       "      <td>self-made finance</td>\n",
       "      <td>1.0</td>\n",
       "      <td>Financial</td>\n",
       "      <td>True</td>\n",
       "      <td>Real Estate</td>\n",
       "      <td>not inherited</td>\n",
       "      <td>True</td>\n",
       "      <td>True</td>\n",
       "    </tr>\n",
       "    <tr>\n",
       "      <th>2612</th>\n",
       "      <td>Zdenek Bakala</td>\n",
       "      <td>1565</td>\n",
       "      <td>2014</td>\n",
       "      <td>1994</td>\n",
       "      <td>Patria Finance</td>\n",
       "      <td>founder</td>\n",
       "      <td>coal</td>\n",
       "      <td>new</td>\n",
       "      <td>53</td>\n",
       "      <td>male</td>\n",
       "      <td>...</td>\n",
       "      <td>0.000000e+00</td>\n",
       "      <td>Europe</td>\n",
       "      <td>privatized and resources</td>\n",
       "      <td>1.0</td>\n",
       "      <td>Resource Related</td>\n",
       "      <td>True</td>\n",
       "      <td>Mining and metals</td>\n",
       "      <td>not inherited</td>\n",
       "      <td>True</td>\n",
       "      <td>True</td>\n",
       "    </tr>\n",
       "    <tr>\n",
       "      <th>2613</th>\n",
       "      <td>Zhu Wenchen</td>\n",
       "      <td>1565</td>\n",
       "      <td>2014</td>\n",
       "      <td>1999</td>\n",
       "      <td>Furen Pharmaceutical Group</td>\n",
       "      <td>chairman</td>\n",
       "      <td>pharmaceuticals</td>\n",
       "      <td>new</td>\n",
       "      <td>48</td>\n",
       "      <td>male</td>\n",
       "      <td>...</td>\n",
       "      <td>0.000000e+00</td>\n",
       "      <td>East Asia</td>\n",
       "      <td>executive</td>\n",
       "      <td>1.0</td>\n",
       "      <td>New Sectors</td>\n",
       "      <td>True</td>\n",
       "      <td>Technology-Medical</td>\n",
       "      <td>not inherited</td>\n",
       "      <td>True</td>\n",
       "      <td>True</td>\n",
       "    </tr>\n",
       "  </tbody>\n",
       "</table>\n",
       "<p>2228 rows × 22 columns</p>\n",
       "</div>"
      ],
      "text/plain": [
       "                       name  rank  year  year_company_founded  \\\n",
       "0                Bill Gates     1  1996                  1975   \n",
       "1                Bill Gates     1  2001                  1975   \n",
       "2                Bill Gates     1  2014                  1975   \n",
       "3            Warren Buffett     2  1996                  1962   \n",
       "4            Warren Buffett     2  2001                  1962   \n",
       "...                     ...   ...   ...                   ...   \n",
       "2608  William Moncrief, Jr.  1565  2014                  1929   \n",
       "2609            Wu Chung-Yi  1565  2014                  1991   \n",
       "2611              Yang Keng  1565  2014                     0   \n",
       "2612          Zdenek Bakala  1565  2014                  1994   \n",
       "2613            Zhu Wenchen  1565  2014                  1999   \n",
       "\n",
       "                    company_name relationship_with_company  \\\n",
       "0                      Microsoft                   founder   \n",
       "1                      Microsoft                   founder   \n",
       "2                      Microsoft                   founder   \n",
       "3             Berkshire Hathaway                   founder   \n",
       "4             Berkshire Hathaway                   founder   \n",
       "...                          ...                       ...   \n",
       "2608                Moncrief Oil                  relation   \n",
       "2609                      Tingyi                  investor   \n",
       "2611               Blue Ray Corp                  chairman   \n",
       "2612              Patria Finance                   founder   \n",
       "2613  Furen Pharmaceutical Group                  chairman   \n",
       "\n",
       "          company_sector company_type  age gender  ...   country_gdp  \\\n",
       "0               Software          new   40   male  ...  8.100000e+12   \n",
       "1               Software          new   45   male  ...  1.060000e+13   \n",
       "2               Software          new   58   male  ...  0.000000e+00   \n",
       "3                Finance          new   65   male  ...  8.100000e+12   \n",
       "4                Finance          new   70   male  ...  1.060000e+13   \n",
       "...                  ...          ...  ...    ...  ...           ...   \n",
       "2608                 oil          new   93   male  ...  0.000000e+00   \n",
       "2609  beverages and food          new   55   male  ...  0.000000e+00   \n",
       "2611         real estate          new   53   male  ...  0.000000e+00   \n",
       "2612                coal          new   53   male  ...  0.000000e+00   \n",
       "2613     pharmaceuticals          new   48   male  ...  0.000000e+00   \n",
       "\n",
       "             region               wealth_type net_worth_in_billions  \\\n",
       "0     North America       founder non-finance                  18.5   \n",
       "1     North America       founder non-finance                  58.7   \n",
       "2     North America       founder non-finance                  76.0   \n",
       "3     North America       founder non-finance                  15.0   \n",
       "4     North America       founder non-finance                  32.3   \n",
       "...             ...                       ...                   ...   \n",
       "2608  North America                 inherited                   1.0   \n",
       "2609      East Asia                 executive                   1.0   \n",
       "2611      East Asia         self-made finance                   1.0   \n",
       "2612         Europe  privatized and resources                   1.0   \n",
       "2613      East Asia                 executive                   1.0   \n",
       "\n",
       "     company_sector_category  emerging_market                 industry  \\\n",
       "0                New Sectors             True      Technology-Computer   \n",
       "1                New Sectors             True      Technology-Computer   \n",
       "2                New Sectors             True      Technology-Computer   \n",
       "3             Traded Sectors             True                 Consumer   \n",
       "4             Traded Sectors             True                 Consumer   \n",
       "...                      ...              ...                      ...   \n",
       "2608        Resource Related             True                   Energy   \n",
       "2609          Traded Sectors             True  Non-consumer industrial   \n",
       "2611               Financial             True              Real Estate   \n",
       "2612        Resource Related             True        Mining and metals   \n",
       "2613             New Sectors             True       Technology-Medical   \n",
       "\n",
       "      wealth_source founder_status political_impact  \n",
       "0     not inherited           True             True  \n",
       "1     not inherited           True             True  \n",
       "2     not inherited           True             True  \n",
       "3     not inherited           True             True  \n",
       "4     not inherited           True             True  \n",
       "...             ...            ...              ...  \n",
       "2608         father           True             True  \n",
       "2609  not inherited           True             True  \n",
       "2611  not inherited           True             True  \n",
       "2612  not inherited           True             True  \n",
       "2613  not inherited           True             True  \n",
       "\n",
       "[2228 rows x 22 columns]"
      ]
     },
     "execution_count": 51,
     "metadata": {},
     "output_type": "execute_result"
    }
   ],
   "source": [
    "# calculate the IQR and upper and lower bounds for the age column\n",
    "Q1 = bil_data['age'].quantile(0.25)\n",
    "Q3 = bil_data['age'].quantile(0.75)\n",
    "IQR = Q3 - Q1\n",
    "lower_bound = Q1 - 1.5 * IQR\n",
    "upper_bound = Q3 + 1.5 * IQR\n",
    "\n",
    "# filter out the outliers from the age column\n",
    "bil_data_filtered = bil_data[(bil_data['age'] >= lower_bound) & (bil_data['age'] <= upper_bound)]\n",
    "\n",
    "# print the filtered DataFrame\n",
    "bil_data_filtered"
   ]
  },
  {
   "cell_type": "markdown",
   "id": "36459484",
   "metadata": {},
   "source": [
    "### Confirming Outlier Removal"
   ]
  },
  {
   "cell_type": "code",
   "execution_count": 52,
   "id": "2dc7b011",
   "metadata": {},
   "outputs": [
    {
     "data": {
      "image/png": "[encoded data removed]",
      "text/plain": [
       "<Figure size 700x700 with 1 Axes>"
      ]
     },
     "metadata": {},
     "output_type": "display_data"
    }
   ],
   "source": [
    "plt.figure(figsize= (7,7))\n",
    "sns.boxplot(y = bil_data_filtered['age'])\n",
    "plt.title('Box Plot of Age')\n",
    "plt.show()"
   ]
  },
  {
   "cell_type": "code",
   "execution_count": 53,
   "id": "581cb9e6",
   "metadata": {},
   "outputs": [
    {
     "data": {
      "image/png": "[encoded data removed]",
      "text/plain": [
       "<Figure size 700x700 with 1 Axes>"
      ]
     },
     "metadata": {},
     "output_type": "display_data"
    }
   ],
   "source": [
    "plt.figure(figsize= (7,7))\n",
    "sns.boxplot(y = bil_data['net_worth_in_billions'])\n",
    "plt.title('Box Plot of Net Worth')\n",
    "plt.show()"
   ]
  },
  {
   "cell_type": "code",
   "execution_count": null,
   "id": "7abd0f60",
   "metadata": {},
   "outputs": [],
   "source": []
  },
  {
   "cell_type": "markdown",
   "id": "21aa3c0d",
   "metadata": {},
   "source": [
    "### Data Cleaning"
   ]
  },
  {
   "cell_type": "markdown",
   "id": "47ef7eab",
   "metadata": {},
   "source": [
    "#### Filling missing values using hot-deck imputation. The method loops over each column in the dataset, and for each missing value in that column, it find rows where all values are not null, and sample one of those rows at random. It then takes the value from the selected row and use it to fill in the missing value in the original dataset."
   ]
  },
  {
   "cell_type": "code",
   "execution_count": 54,
   "id": "814880d5",
   "metadata": {},
   "outputs": [],
   "source": [
    "for col in bil_data.columns:\n",
    "    for i, val in enumerate(bil_data[col]):\n",
    "        if pd.isnull(val):\n",
    "            similar_rows = bil_data[bil_data.notnull().all(axis=1)]\n",
    "            similar_val = similar_rows.sample(1)[col].iloc[0]\n",
    "            bil_data.at[i, col] = similar_val"
   ]
  },
  {
   "cell_type": "code",
   "execution_count": 55,
   "id": "eef2d854",
   "metadata": {},
   "outputs": [
    {
     "data": {
      "text/plain": [
       "name                         0\n",
       "rank                         0\n",
       "year                         0\n",
       "year_company_founded         0\n",
       "company_name                 0\n",
       "relationship_with_company    0\n",
       "company_sector               0\n",
       "company_type                 0\n",
       "age                          0\n",
       "gender                       0\n",
       "country                      0\n",
       "country_code                 0\n",
       "country_gdp                  0\n",
       "region                       0\n",
       "wealth_type                  0\n",
       "net_worth_in_billions        0\n",
       "company_sector_category      0\n",
       "emerging_market              0\n",
       "industry                     0\n",
       "wealth_source                0\n",
       "founder_status               0\n",
       "political_impact             0\n",
       "dtype: int64"
      ]
     },
     "execution_count": 55,
     "metadata": {},
     "output_type": "execute_result"
    }
   ],
   "source": [
    "bil_data.isnull().sum()"
   ]
  },
  {
   "cell_type": "markdown",
   "id": "e9ef9d2f",
   "metadata": {},
   "source": [
    "#### Converting negative values from column 'age' to positive integers. The describe function above returned  a negative minimum age value. Since it is impossible for age to be negative, it is important to convert to positive integer as this might have been a data entry error."
   ]
  },
  {
   "cell_type": "code",
   "execution_count": 56,
   "id": "a1d76c39",
   "metadata": {},
   "outputs": [],
   "source": [
    "bil_data['age'] = bil_data['age'].apply(abs)"
   ]
  },
  {
   "cell_type": "markdown",
   "id": "68f09ae1",
   "metadata": {},
   "source": [
    "#### Reconfirming the conversion"
   ]
  },
  {
   "cell_type": "code",
   "execution_count": 57,
   "id": "693b2fb5",
   "metadata": {},
   "outputs": [
    {
     "data": {
      "text/html": [
       "<div>\n",
       "<style scoped>\n",
       "    .dataframe tbody tr th:only-of-type {\n",
       "        vertical-align: middle;\n",
       "    }\n",
       "\n",
       "    .dataframe tbody tr th {\n",
       "        vertical-align: top;\n",
       "    }\n",
       "\n",
       "    .dataframe thead th {\n",
       "        text-align: right;\n",
       "    }\n",
       "</style>\n",
       "<table border=\"1\" class=\"dataframe\">\n",
       "  <thead>\n",
       "    <tr style=\"text-align: right;\">\n",
       "      <th></th>\n",
       "      <th>rank</th>\n",
       "      <th>year</th>\n",
       "      <th>year_company_founded</th>\n",
       "      <th>age</th>\n",
       "      <th>country_gdp</th>\n",
       "      <th>net_worth_in_billions</th>\n",
       "    </tr>\n",
       "  </thead>\n",
       "  <tbody>\n",
       "    <tr>\n",
       "      <th>count</th>\n",
       "      <td>2614.000000</td>\n",
       "      <td>2614.000000</td>\n",
       "      <td>2614.000000</td>\n",
       "      <td>2614.00000</td>\n",
       "      <td>2.614000e+03</td>\n",
       "      <td>2614.000000</td>\n",
       "    </tr>\n",
       "    <tr>\n",
       "      <th>mean</th>\n",
       "      <td>599.672533</td>\n",
       "      <td>2008.411630</td>\n",
       "      <td>1924.711936</td>\n",
       "      <td>53.37873</td>\n",
       "      <td>1.769103e+12</td>\n",
       "      <td>3.531943</td>\n",
       "    </tr>\n",
       "    <tr>\n",
       "      <th>std</th>\n",
       "      <td>467.885695</td>\n",
       "      <td>7.483598</td>\n",
       "      <td>243.776546</td>\n",
       "      <td>25.25420</td>\n",
       "      <td>3.547083e+12</td>\n",
       "      <td>5.088813</td>\n",
       "    </tr>\n",
       "    <tr>\n",
       "      <th>min</th>\n",
       "      <td>1.000000</td>\n",
       "      <td>1996.000000</td>\n",
       "      <td>0.000000</td>\n",
       "      <td>0.00000</td>\n",
       "      <td>0.000000e+00</td>\n",
       "      <td>1.000000</td>\n",
       "    </tr>\n",
       "    <tr>\n",
       "      <th>25%</th>\n",
       "      <td>215.000000</td>\n",
       "      <td>2001.000000</td>\n",
       "      <td>1936.000000</td>\n",
       "      <td>47.00000</td>\n",
       "      <td>0.000000e+00</td>\n",
       "      <td>1.400000</td>\n",
       "    </tr>\n",
       "    <tr>\n",
       "      <th>50%</th>\n",
       "      <td>430.000000</td>\n",
       "      <td>2014.000000</td>\n",
       "      <td>1963.000000</td>\n",
       "      <td>59.00000</td>\n",
       "      <td>0.000000e+00</td>\n",
       "      <td>2.000000</td>\n",
       "    </tr>\n",
       "    <tr>\n",
       "      <th>75%</th>\n",
       "      <td>988.000000</td>\n",
       "      <td>2014.000000</td>\n",
       "      <td>1985.000000</td>\n",
       "      <td>70.00000</td>\n",
       "      <td>7.250000e+11</td>\n",
       "      <td>3.500000</td>\n",
       "    </tr>\n",
       "    <tr>\n",
       "      <th>max</th>\n",
       "      <td>1565.000000</td>\n",
       "      <td>2014.000000</td>\n",
       "      <td>2012.000000</td>\n",
       "      <td>98.00000</td>\n",
       "      <td>1.060000e+13</td>\n",
       "      <td>76.000000</td>\n",
       "    </tr>\n",
       "  </tbody>\n",
       "</table>\n",
       "</div>"
      ],
      "text/plain": [
       "              rank         year  year_company_founded         age  \\\n",
       "count  2614.000000  2614.000000           2614.000000  2614.00000   \n",
       "mean    599.672533  2008.411630           1924.711936    53.37873   \n",
       "std     467.885695     7.483598            243.776546    25.25420   \n",
       "min       1.000000  1996.000000              0.000000     0.00000   \n",
       "25%     215.000000  2001.000000           1936.000000    47.00000   \n",
       "50%     430.000000  2014.000000           1963.000000    59.00000   \n",
       "75%     988.000000  2014.000000           1985.000000    70.00000   \n",
       "max    1565.000000  2014.000000           2012.000000    98.00000   \n",
       "\n",
       "        country_gdp  net_worth_in_billions  \n",
       "count  2.614000e+03            2614.000000  \n",
       "mean   1.769103e+12               3.531943  \n",
       "std    3.547083e+12               5.088813  \n",
       "min    0.000000e+00               1.000000  \n",
       "25%    0.000000e+00               1.400000  \n",
       "50%    0.000000e+00               2.000000  \n",
       "75%    7.250000e+11               3.500000  \n",
       "max    1.060000e+13              76.000000  "
      ]
     },
     "execution_count": 57,
     "metadata": {},
     "output_type": "execute_result"
    }
   ],
   "source": [
    "bil_data.describe()"
   ]
  },
  {
   "cell_type": "markdown",
   "id": "d09f8e4c",
   "metadata": {},
   "source": [
    "## Removing outliers from column 'age"
   ]
  },
  {
   "cell_type": "markdown",
   "id": "a02e3090",
   "metadata": {},
   "source": [
    "### Exploratory Data Analysis"
   ]
  },
  {
   "cell_type": "code",
   "execution_count": 58,
   "id": "98a008ac",
   "metadata": {
    "scrolled": true
   },
   "outputs": [
    {
     "data": {
      "image/png": "[encoded data removed]",
      "text/plain": [
       "<Figure size 600x600 with 1 Axes>"
      ]
     },
     "metadata": {},
     "output_type": "display_data"
    }
   ],
   "source": [
    "plt.figure(figsize= (6,6))\n",
    "bil_data.groupby('wealth_source')['net_worth_in_billions'].sum().sort_values(ascending= False).plot(kind='bar')\n",
    "plt.xlabel('Wealth Worth by Wealth Source')\n",
    "plt.ylabel('Frequency')\n",
    "plt.title('Wealth Source by Net-Worth')\n",
    "plt.legend()\n",
    "plt.show()"
   ]
  },
  {
   "cell_type": "markdown",
   "id": "6ff51822",
   "metadata": {},
   "source": [
    "#### Plotting a scatterplot of the age and wealth worth columns to understand the relationship between age and wealth worth."
   ]
  },
  {
   "cell_type": "code",
   "execution_count": 59,
   "id": "f079bbff",
   "metadata": {},
   "outputs": [
    {
     "data": {
      "image/png": "[encoded data removed]",
      "text/plain": [
       "<Figure size 640x480 with 1 Axes>"
      ]
     },
     "metadata": {},
     "output_type": "display_data"
    }
   ],
   "source": [
    "sns.scatterplot(x='age', y='net_worth_in_billions', data=bil_data_filtered)\n",
    "plt.title('Age vs. Net Worth')\n",
    "plt.show()"
   ]
  },
  {
   "cell_type": "markdown",
   "id": "64697c30",
   "metadata": {},
   "source": [
    "#### Generating a bar plot to show the total wealth worth in billions  for each unique value of 'wealth_type'.  This  allows us to compare the total wealth worth across different types of wealth, and to identify any outliers or notable patterns in the distribution of wealth. Individuals in the 'INHERITED' wealth type category have the highest combined net worth of all the categories"
   ]
  },
  {
   "cell_type": "code",
   "execution_count": 61,
   "id": "abb6bc73",
   "metadata": {},
   "outputs": [
    {
     "data": {
      "image/png": "[encoded data removed]",
      "text/plain": [
       "<Figure size 640x480 with 1 Axes>"
      ]
     },
     "metadata": {},
     "output_type": "display_data"
    }
   ],
   "source": [
    "bil_data.groupby('wealth_type')['net_worth_in_billions'].sum().sort_values(ascending = True).plot(kind='barh', color = 'c')\n",
    "plt.xlabel('Wealth Worth (In Billions)')\n",
    "plt.ylabel('Wealth Type')\n",
    "plt.title('Wealth Worth by Wealth Type')\n",
    "plt.show()"
   ]
  },
  {
   "cell_type": "markdown",
   "id": "942e3bc2",
   "metadata": {},
   "source": [
    "#### The violinplot below allows to compare the distribution of wealth worth between males, females, and  married couples, who are individuals with combined wealth. It also allows to identify any notable patterns or differences in the distribution."
   ]
  },
  {
   "cell_type": "code",
   "execution_count": 62,
   "id": "6ebc8c49",
   "metadata": {},
   "outputs": [
    {
     "data": {
      "image/png": "[encoded data removed]",
      "text/plain": [
       "<Figure size 640x480 with 1 Axes>"
      ]
     },
     "metadata": {},
     "output_type": "display_data"
    }
   ],
   "source": [
    "sns.violinplot(data=bil_data, x='gender', y='net_worth_in_billions')\n",
    "plt.xlabel('Gender')\n",
    "plt.ylabel('Wealth Worth (In Billions)')\n",
    "plt.title('Wealth Worth by Gender')\n",
    "plt.show()"
   ]
  },
  {
   "cell_type": "markdown",
   "id": "f2546de0",
   "metadata": {},
   "source": [
    "#### The Boxplot below shows the age distribution  for each unique value of wealth type"
   ]
  },
  {
   "cell_type": "code",
   "execution_count": 63,
   "id": "3b61eec4",
   "metadata": {},
   "outputs": [
    {
     "data": {
      "image/png": "[encoded data removed]",
      "text/plain": [
       "<Figure size 640x480 with 1 Axes>"
      ]
     },
     "metadata": {},
     "output_type": "display_data"
    }
   ],
   "source": [
    "sns.boxplot(data=bil_data_filtered, x='age', y='wealth_type')\n",
    "plt.xlabel('Age')\n",
    "plt.ylabel('Wealth Type')\n",
    "plt.title('Wealth Type by Age')\n",
    "plt.show()"
   ]
  },
  {
   "cell_type": "code",
   "execution_count": 64,
   "id": "fac6634a",
   "metadata": {},
   "outputs": [
    {
     "data": {
      "image/png": "[encoded data removed]",
      "text/plain": [
       "<Figure size 640x480 with 1 Axes>"
      ]
     },
     "metadata": {},
     "output_type": "display_data"
    }
   ],
   "source": [
    "gender_counts = bil_data['gender'].value_counts()\n",
    "\n",
    "labels = ['Male', 'Female', 'married couple']\n",
    "colors = ['purple', 'pink', 'cyan']\n",
    "plt.pie(gender_counts, labels=labels, colors=colors, autopct='%1.1f%%')\n",
    "plt.title('Gender Distribution')\n",
    "plt.show()"
   ]
  },
  {
   "cell_type": "code",
   "execution_count": 65,
   "id": "03398038",
   "metadata": {},
   "outputs": [
    {
     "data": {
      "image/png": "[encoded data removed]",
      "text/plain": [
       "<Figure size 640x480 with 1 Axes>"
      ]
     },
     "metadata": {},
     "output_type": "display_data"
    }
   ],
   "source": [
    "industry_counts = bil_data['industry'].value_counts().head(5)\n",
    "\n",
    "labels = ['Consumer', 'Retail', 'Real Estate', 'Money Management', 'Media']\n",
    "\n",
    "plt.pie(industry_counts, labels=labels, autopct='%1.1f%%')\n",
    "plt.title('Industry Distribution')\n",
    "plt.show()\n",
    "\n"
   ]
  },
  {
   "cell_type": "markdown",
   "id": "b40b8427",
   "metadata": {},
   "source": [
    "#### A bar chart of the frequency of each age group"
   ]
  },
  {
   "cell_type": "markdown",
   "id": "6a718d92",
   "metadata": {},
   "source": [
    "#### Most Successful Industry/Sector"
   ]
  },
  {
   "cell_type": "code",
   "execution_count": 69,
   "id": "8d6cb0eb",
   "metadata": {},
   "outputs": [
    {
     "data": {
      "text/plain": [
       "company_sector\n",
       "real estate        623.8\n",
       "media              489.1\n",
       "retail             481.3\n",
       "technology         263.6\n",
       "banking            246.3\n",
       "construction       218.4\n",
       "oil                216.5\n",
       "pharmaceuticals    213.0\n",
       "software           185.2\n",
       "hedge funds        179.2\n",
       "Name: net_worth_in_billions, dtype: float64"
      ]
     },
     "execution_count": 69,
     "metadata": {},
     "output_type": "execute_result"
    }
   ],
   "source": [
    "most_successful_sectors = bil_data.groupby('company_sector')['net_worth_in_billions'].sum().sort_values(ascending = False).head(10)\n",
    "most_successful_sectors\n",
    "\n"
   ]
  },
  {
   "cell_type": "code",
   "execution_count": 70,
   "id": "f831c916",
   "metadata": {},
   "outputs": [
    {
     "data": {
      "image/png": "[encoded data removed]",
      "text/plain": [
       "<Figure size 640x480 with 1 Axes>"
      ]
     },
     "metadata": {},
     "output_type": "display_data"
    }
   ],
   "source": [
    "most_successful_sectors.sort_values(ascending= True).plot(kind='barh')\n",
    "plt.xlabel('Sector')\n",
    "plt.ylabel('Net Worth (In Billions)')\n",
    "plt.title('Most Successful Sectors')\n",
    "plt.show()"
   ]
  },
  {
   "cell_type": "code",
   "execution_count": null,
   "id": "c1efacb0",
   "metadata": {},
   "outputs": [],
   "source": [
    "sector_year_median_worth = bil_data.groupby(['year', 'company_sector_category'])['wealth_worth_in_billions'].median().round()\n",
    "\n",
    "most_successful_sector_by_year = sector_year_median_worth.groupby('year').idxmax()\n",
    "most_successful_sector_by_year = most_successful_sector_by_year.apply(lambda x: x[1])\n",
    "\n",
    "plt.plot(most_successful_sector_by_year.index.astype(np.int64), most_successful_sector_by_year.values)\n",
    "plt.xlabel('Year')\n",
    "plt.ylabel('Sector')\n",
    "plt.title('Most Successful Sector by Year')\n",
    "plt.show()"
   ]
  },
  {
   "cell_type": "markdown",
   "id": "823e874a",
   "metadata": {},
   "source": [
    "#### comparison of the number of millionaires across different years"
   ]
  },
  {
   "cell_type": "code",
   "execution_count": null,
   "id": "a24155f0",
   "metadata": {},
   "outputs": [],
   "source": [
    "millionaires_by_year = bil_data.groupby('year')['name'].count().sort_values(ascending= False)\n",
    "\n",
    "# create a bar plot of 'year' against the number of billionaires\n",
    "millionaires_by_year.plot(kind='bar')\n",
    "plt.xlabel('Year')\n",
    "plt.ylabel('Number of Billionaires')\n",
    "plt.title('Number of Billionaires by Year')\n",
    "plt.show()"
   ]
  },
  {
   "cell_type": "markdown",
   "id": "d77633c7",
   "metadata": {},
   "source": [
    "#### comparison of the distribution of wealth worth across different age groups, wealth types, and genders"
   ]
  },
  {
   "cell_type": "code",
   "execution_count": null,
   "id": "2968670a",
   "metadata": {},
   "outputs": [],
   "source": [
    "gender_markers = {'male': 'o', 'female': '^', 'married couple': 's'}\n",
    "\n",
    "# create a scatter plot of 'wealth.worth in billions' against 'demographics.age', colored by 'wealth.type'\n",
    "fig, ax = plt.subplots(figsize=(7, 6))\n",
    "for wealth_type, group in bil_data.groupby('wealth_type'):\n",
    "    for gender, g in group.groupby('gender'):\n",
    "        ax.scatter(g['age'], g['wealth_worth_in_billions'], label=wealth_type + '_' + gender, marker=gender_markers[gender], alpha=0.8)\n",
    "\n",
    "# add axis labels and legend\n",
    "plt.xlabel('Age')\n",
    "plt.ylabel('Wealth Worth (In Billions)')\n",
    "plt.title('Wealth Worth by Age, Wealth Type, and Gender')\n",
    "plt.legend(title='Wealth Type and Gender', loc='upper right')\n",
    "plt.show()"
   ]
  },
  {
   "cell_type": "markdown",
   "id": "2a7e00ce",
   "metadata": {},
   "source": [
    "#### Top 10 countries with the highest number of billionaires"
   ]
  },
  {
   "cell_type": "code",
   "execution_count": null,
   "id": "dbce1a8b",
   "metadata": {},
   "outputs": [],
   "source": [
    "Top_10_countries = bil_data['country'].value_counts().nlargest(10)\n",
    "\n",
    "sns.barplot(x=Top_10_countries, y=Top_10_countries.index)\n",
    "plt.xlabel('Number of Billionaires')\n",
    "plt.ylabel('Country')\n",
    "plt.title('Top 10 Countries with the Highest Number of Billionaires')\n",
    "plt.show()"
   ]
  },
  {
   "cell_type": "markdown",
   "id": "285df052",
   "metadata": {},
   "source": [
    "#### Industry with the highest number of female billionaires"
   ]
  },
  {
   "cell_type": "code",
   "execution_count": null,
   "id": "b5607b14",
   "metadata": {},
   "outputs": [],
   "source": [
    "female_billionaires = bil_data[bil_data['gender'] == 'female']\n",
    "female_billionaires_by_industry = female_billionaires.groupby('industry')['name'].count()\n",
    "female_billionaires_by_industry = female_billionaires_by_industry.sort_values(ascending=False)\n",
    "\n",
    "female_billionaires_by_industry.head(10).plot(kind='bar', color= 'mediumseagreen')\n",
    "plt.xlabel('Industry')\n",
    "plt.ylabel('Number of Women Billionaires')\n",
    "plt.title('Industry With The Highest Number of Female Billionaires')\n",
    "plt.show()"
   ]
  },
  {
   "cell_type": "code",
   "execution_count": null,
   "id": "cb8231d6",
   "metadata": {},
   "outputs": [],
   "source": [
    "female_billionaires = bil_data[bil_data['gender'] == 'female']\n",
    "\n",
    "# group the data by industry and count the number of women billionaires\n",
    "female_billionaires_per_industry = female_billionaires.groupby('industry')['gender'].count()\n",
    "\n",
    "# sort the data by the number of women billionaires in descending order\n",
    "female_billionaires_per_industry = female_billionaires_per_industry.sort_values(ascending=False).head(10)\n",
    "\n",
    "# plot the data as a bar chart using Seaborn\n",
    "sns.barplot(x=female_billionaires_per_industry.values, y=female_billionaires_per_industry.index)\n",
    "\n",
    "# set the title and axis labels\n",
    "plt.title('Main Industries with the Highest Number of Female Billionaires')\n",
    "plt.xlabel('Number of Female Billionaires')\n",
    "plt.ylabel('Industry')\n",
    "\n",
    "# show the plot\n",
    "plt.show()"
   ]
  },
  {
   "cell_type": "code",
   "execution_count": null,
   "id": "958c3676",
   "metadata": {},
   "outputs": [],
   "source": [
    "bins = [ 20 ,30, 40, 50, 60, 70, 80, 90, 100]\n",
    "\n",
    "# group billionaires by age range using the 'cut' method\n",
    "billionaires_by_age = pd.cut(bil_data['age'], bins=bins)\n",
    "\n",
    "# count the number of billionaires in each age range\n",
    "age_counts = billionaires_by_age.value_counts(ascending=True)\n",
    "\n",
    "# plot the results using a bar graph\n",
    "age_counts.plot(kind='barh', color= 'Purple')\n",
    "plt.xlabel('Age Range')\n",
    "plt.ylabel('Number of Billionaires')\n",
    "plt.title('Age Range and Billionaires Count')\n",
    "plt.show()"
   ]
  },
  {
   "cell_type": "markdown",
   "id": "886d23b7",
   "metadata": {},
   "source": [
    "### NULL HYPOTHESIS"
   ]
  },
  {
   "cell_type": "code",
   "execution_count": 24,
   "id": "e3b4c488",
   "metadata": {},
   "outputs": [
    {
     "name": "stdout",
     "output_type": "stream",
     "text": [
      "                              OLS Regression Results                             \n",
      "=================================================================================\n",
      "Dep. Variable:     net_worth_in_billions   R-squared:                       0.001\n",
      "Model:                               OLS   Adj. R-squared:                  0.001\n",
      "Method:                    Least Squares   F-statistic:                     3.501\n",
      "Date:                   Wed, 12 Apr 2023   Prob (F-statistic):             0.0614\n",
      "Time:                           11:19:52   Log-Likelihood:                -7959.9\n",
      "No. Observations:                   2614   AIC:                         1.592e+04\n",
      "Df Residuals:                       2612   BIC:                         1.594e+04\n",
      "Df Model:                              1                                         \n",
      "Covariance Type:               nonrobust                                         \n",
      "========================================================================================\n",
      "                           coef    std err          t      P>|t|      [0.025      0.975]\n",
      "----------------------------------------------------------------------------------------\n",
      "const                    2.0619      0.792      2.604      0.009       0.509       3.615\n",
      "year_company_founded     0.0008      0.000      1.871      0.061   -3.66e-05       0.002\n",
      "==============================================================================\n",
      "Omnibus:                     3107.607   Durbin-Watson:                   0.851\n",
      "Prob(Omnibus):                  0.000   Jarque-Bera (JB):           376563.474\n",
      "Skew:                           6.219   Prob(JB):                         0.00\n",
      "Kurtosis:                      60.469   Cond. No.                     1.54e+04\n",
      "==============================================================================\n",
      "\n",
      "Notes:\n",
      "[1] Standard Errors assume that the covariance matrix of the errors is correctly specified.\n",
      "[2] The condition number is large, 1.54e+04. This might indicate that there are\n",
      "strong multicollinearity or other numerical problems.\n"
     ]
    }
   ],
   "source": [
    "import statsmodels.api as sm\n",
    "\n",
    "# Define the independent and dependent variables\n",
    "X = bil_data['year_company_founded']\n",
    "y = bil_data['net_worth_in_billions']\n",
    "\n",
    "# Add a constant to the independent variable\n",
    "X = sm.add_constant(X)\n",
    "\n",
    "# Create a linear regression model\n",
    "model = sm.OLS(y, X).fit()\n",
    "\n",
    "# Print the summary of the regression results\n",
    "print(model.summary())\n"
   ]
  },
  {
   "cell_type": "code",
   "execution_count": 25,
   "id": "87d65005",
   "metadata": {},
   "outputs": [
    {
     "name": "stdout",
     "output_type": "stream",
     "text": [
      "Correlation coefficient: 0.036588854993592074\n"
     ]
    }
   ],
   "source": [
    "corr = bil_data['year_company_founded'].corr(bil_data['net_worth_in_billions'])\n",
    "print('Correlation coefficient:', corr)"
   ]
  },
  {
   "cell_type": "markdown",
   "id": "c1da3ce9",
   "metadata": {},
   "source": [
    "#### Null Hypothesis (H0): The industry sector in which a company operates has no significant influence on the net worth of the individuals associated with that company.\n",
    "Alternative Hypothesis (H1): The industry sector in which a company operates has a significant influence on the net worth of the individuals associated with that company.\n"
   ]
  },
  {
   "cell_type": "code",
   "execution_count": 28,
   "id": "1b88b8d0",
   "metadata": {},
   "outputs": [
    {
     "data": {
      "text/html": [
       "<div>\n",
       "<style scoped>\n",
       "    .dataframe tbody tr th:only-of-type {\n",
       "        vertical-align: middle;\n",
       "    }\n",
       "\n",
       "    .dataframe tbody tr th {\n",
       "        vertical-align: top;\n",
       "    }\n",
       "\n",
       "    .dataframe thead th {\n",
       "        text-align: right;\n",
       "    }\n",
       "</style>\n",
       "<table border=\"1\" class=\"dataframe\">\n",
       "  <thead>\n",
       "    <tr style=\"text-align: right;\">\n",
       "      <th></th>\n",
       "      <th>sum_sq</th>\n",
       "      <th>df</th>\n",
       "      <th>F</th>\n",
       "      <th>PR(&gt;F)</th>\n",
       "    </tr>\n",
       "  </thead>\n",
       "  <tbody>\n",
       "    <tr>\n",
       "      <th>C(company_sector)</th>\n",
       "      <td>25681.728544</td>\n",
       "      <td>476.0</td>\n",
       "      <td>2.393299</td>\n",
       "      <td>3.807667e-38</td>\n",
       "    </tr>\n",
       "    <tr>\n",
       "      <th>Residual</th>\n",
       "      <td>39451.028025</td>\n",
       "      <td>1750.0</td>\n",
       "      <td>NaN</td>\n",
       "      <td>NaN</td>\n",
       "    </tr>\n",
       "  </tbody>\n",
       "</table>\n",
       "</div>"
      ],
      "text/plain": [
       "                         sum_sq      df         F        PR(>F)\n",
       "C(company_sector)  25681.728544   476.0  2.393299  3.807667e-38\n",
       "Residual           39451.028025  1750.0       NaN           NaN"
      ]
     },
     "execution_count": 28,
     "metadata": {},
     "output_type": "execute_result"
    }
   ],
   "source": [
    "import statsmodels.api as sm\n",
    "from statsmodels.formula.api import ols\n",
    "\n",
    "# Define null and alternative hypotheses\n",
    "null_hypothesis = 'net_worth_in_billions ~ C(company_sector)'\n",
    "alternative_hypothesis = 'net_worth_in_billions ~ C(company_sector)'\n",
    "\n",
    "# Create ANOVA model\n",
    "model = ols(alternative_hypothesis, data=bil_data_filtered).fit()\n",
    "anova_table = sm.stats.anova_lm(model, typ=2)\n",
    "\n",
    "# Print ANOVA table\n",
    "anova_table"
   ]
  },
  {
   "cell_type": "markdown",
   "id": "90dd5be6",
   "metadata": {},
   "source": [
    "#### Null Hypothesis (H0): There is no significant relationship between an individual's position within a company and their net worth.\n",
    "Alternative Hypothesis (H1): There is a significant relationship between an individual's position within a company and their net worth."
   ]
  },
  {
   "cell_type": "code",
   "execution_count": 37,
   "id": "33d21c1d",
   "metadata": {},
   "outputs": [
    {
     "name": "stderr",
     "output_type": "stream",
     "text": [
      "C:\\Users\\vadew\\anaconda3\\lib\\site-packages\\statsmodels\\regression\\linear_model.py:1918: RuntimeWarning: divide by zero encountered in double_scalars\n",
      "  return np.sqrt(eigvals[0]/eigvals[-1])\n"
     ]
    },
    {
     "data": {
      "text/html": [
       "<table class=\"simpletable\">\n",
       "<caption>OLS Regression Results</caption>\n",
       "<tr>\n",
       "  <th>Dep. Variable:</th>    <td>net_worth_in_billions</td> <th>  R-squared:         </th> <td>   0.000</td> \n",
       "</tr>\n",
       "<tr>\n",
       "  <th>Model:</th>                     <td>OLS</td>          <th>  Adj. R-squared:    </th> <td>   0.000</td> \n",
       "</tr>\n",
       "<tr>\n",
       "  <th>Method:</th>               <td>Least Squares</td>     <th>  F-statistic:       </th> <td>     nan</td> \n",
       "</tr>\n",
       "<tr>\n",
       "  <th>Date:</th>               <td>Wed, 12 Apr 2023</td>    <th>  Prob (F-statistic):</th>  <td>   nan</td>  \n",
       "</tr>\n",
       "<tr>\n",
       "  <th>Time:</th>                   <td>13:30:48</td>        <th>  Log-Likelihood:    </th> <td> -7961.7</td> \n",
       "</tr>\n",
       "<tr>\n",
       "  <th>No. Observations:</th>        <td>  2614</td>         <th>  AIC:               </th> <td>1.593e+04</td>\n",
       "</tr>\n",
       "<tr>\n",
       "  <th>Df Residuals:</th>            <td>  2613</td>         <th>  BIC:               </th> <td>1.593e+04</td>\n",
       "</tr>\n",
       "<tr>\n",
       "  <th>Df Model:</th>                <td>     0</td>         <th>                     </th>     <td> </td>    \n",
       "</tr>\n",
       "<tr>\n",
       "  <th>Covariance Type:</th>        <td>nonrobust</td>       <th>                     </th>     <td> </td>    \n",
       "</tr>\n",
       "</table>\n",
       "<table class=\"simpletable\">\n",
       "<tr>\n",
       "         <td></td>           <th>coef</th>     <th>std err</th>      <th>t</th>      <th>P>|t|</th>  <th>[0.025</th>    <th>0.975]</th>  \n",
       "</tr>\n",
       "<tr>\n",
       "  <th>is_founder</th>     <td>         0</td> <td>        0</td> <td>      nan</td> <td>   nan</td> <td>        0</td> <td>        0</td>\n",
       "</tr>\n",
       "<tr>\n",
       "  <th>is_not_founder</th> <td>    3.5319</td> <td>    0.100</td> <td>   35.485</td> <td> 0.000</td> <td>    3.337</td> <td>    3.727</td>\n",
       "</tr>\n",
       "</table>\n",
       "<table class=\"simpletable\">\n",
       "<tr>\n",
       "  <th>Omnibus:</th>       <td>3107.778</td> <th>  Durbin-Watson:     </th>  <td>   0.851</td> \n",
       "</tr>\n",
       "<tr>\n",
       "  <th>Prob(Omnibus):</th>  <td> 0.000</td>  <th>  Jarque-Bera (JB):  </th> <td>376232.851</td>\n",
       "</tr>\n",
       "<tr>\n",
       "  <th>Skew:</th>           <td> 6.220</td>  <th>  Prob(JB):          </th>  <td>    0.00</td> \n",
       "</tr>\n",
       "<tr>\n",
       "  <th>Kurtosis:</th>       <td>60.442</td>  <th>  Cond. No.          </th>  <td>     inf</td> \n",
       "</tr>\n",
       "</table><br/><br/>Notes:<br/>[1] Standard Errors assume that the covariance matrix of the errors is correctly specified.<br/>[2] The smallest eigenvalue is      0. This might indicate that there are<br/>strong multicollinearity problems or that the design matrix is singular."
      ],
      "text/plain": [
       "<class 'statsmodels.iolib.summary.Summary'>\n",
       "\"\"\"\n",
       "                              OLS Regression Results                             \n",
       "=================================================================================\n",
       "Dep. Variable:     net_worth_in_billions   R-squared:                       0.000\n",
       "Model:                               OLS   Adj. R-squared:                  0.000\n",
       "Method:                    Least Squares   F-statistic:                       nan\n",
       "Date:                   Wed, 12 Apr 2023   Prob (F-statistic):                nan\n",
       "Time:                           13:30:48   Log-Likelihood:                -7961.7\n",
       "No. Observations:                   2614   AIC:                         1.593e+04\n",
       "Df Residuals:                       2613   BIC:                         1.593e+04\n",
       "Df Model:                              0                                         \n",
       "Covariance Type:               nonrobust                                         \n",
       "==================================================================================\n",
       "                     coef    std err          t      P>|t|      [0.025      0.975]\n",
       "----------------------------------------------------------------------------------\n",
       "is_founder              0          0        nan        nan           0           0\n",
       "is_not_founder     3.5319      0.100     35.485      0.000       3.337       3.727\n",
       "==============================================================================\n",
       "Omnibus:                     3107.778   Durbin-Watson:                   0.851\n",
       "Prob(Omnibus):                  0.000   Jarque-Bera (JB):           376232.851\n",
       "Skew:                           6.220   Prob(JB):                         0.00\n",
       "Kurtosis:                      60.442   Cond. No.                          inf\n",
       "==============================================================================\n",
       "\n",
       "Notes:\n",
       "[1] Standard Errors assume that the covariance matrix of the errors is correctly specified.\n",
       "[2] The smallest eigenvalue is      0. This might indicate that there are\n",
       "strong multicollinearity problems or that the design matrix is singular.\n",
       "\"\"\""
      ]
     },
     "execution_count": 37,
     "metadata": {},
     "output_type": "execute_result"
    }
   ],
   "source": [
    "# Create dummy variables for position within the company\n",
    "bil_data['is_founder'] = (bil_data['wealth_type'] == 'founder non finance').astype(int)\n",
    "bil_data['is_not_founder'] = (bil_data['wealth_type'] != 'founder non finance').astype(int)\n",
    "\n",
    "# Fit linear regression model\n",
    "X = bil_data[['is_founder', 'is_not_founder']]\n",
    "X = sm.add_constant(X)\n",
    "y = bil_data['net_worth_in_billions']\n",
    "model = sm.OLS(y, X).fit()\n",
    "\n",
    "# Print results\n",
    "model.summary()"
   ]
  },
  {
   "cell_type": "code",
   "execution_count": null,
   "id": "b3dfcde2",
   "metadata": {},
   "outputs": [],
   "source": []
  }
 ],
 "metadata": {
  "kernelspec": {
   "display_name": "Python 3 (ipykernel)",
   "language": "python",
   "name": "python3"
  },
  "language_info": {
   "codemirror_mode": {
    "name": "ipython",
    "version": 3
   },
   "file_extension": ".py",
   "mimetype": "text/x-python",
   "name": "python",
   "nbconvert_exporter": "python",
   "pygments_lexer": "ipython3",
   "version": "3.9.13"
  }
 },
 "nbformat": 4,
 "nbformat_minor": 5
}
